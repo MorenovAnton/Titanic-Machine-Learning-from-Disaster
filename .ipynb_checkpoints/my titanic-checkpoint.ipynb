{
 "cells": [
  {
   "cell_type": "code",
   "execution_count": 1,
   "metadata": {},
   "outputs": [],
   "source": [
    "import numpy as np \n",
    "import pandas as pd "
   ]
  },
  {
   "cell_type": "code",
   "execution_count": null,
   "metadata": {},
   "outputs": [],
   "source": [
    "gender_submission = pd.read_csv('../input/titanic/gender_submission.csv')\n",
    "test = pd.read_csv('../input/titanic/test.csv')\n",
    "train = pd.read_csv('../input/titanic/train.csv')"
   ]
  },
  {
   "cell_type": "code",
   "execution_count": null,
   "metadata": {},
   "outputs": [],
   "source": [
    "train.head(2)"
   ]
  },
  {
   "cell_type": "code",
   "execution_count": null,
   "metadata": {},
   "outputs": [],
   "source": [
    "#train.isnull().sum()"
   ]
  },
  {
   "cell_type": "code",
   "execution_count": null,
   "metadata": {},
   "outputs": [],
   "source": [
    "X = train.drop(['PassengerId', 'Name', 'Ticket', 'Cabin'], axis=1)\n",
    "Y = train.Survived\n",
    "X_dropna = X.dropna()\n",
    "print(X.shape)\n",
    "X.head(3)"
   ]
  },
  {
   "cell_type": "code",
   "execution_count": null,
   "metadata": {},
   "outputs": [],
   "source": [
    "import seaborn as sns  \n",
    "import matplotlib.pyplot as plt\n",
    "#https://plot.ly/python/histograms/\n",
    "import plotly.express as px\n",
    "\n",
    "plt.figure(figsize=[12,10])\n",
    "\n",
    "plt.subplot(331)\n",
    "sns.distplot(X['Pclass'], color=\"k\")\n",
    "\n",
    "plt.subplot (332)                         \n",
    "sns.barplot('Sex', 'Survived', data=X)\n",
    "\n",
    "plt.subplot (333)\n",
    "sns.distplot(X_dropna['Age']) # распределение всего извстного возраста на титанике\n",
    "\n",
    "plt.subplot (334)\n",
    "#sns.distplot(X['SibSp'])\n",
    "sns.barplot('SibSp', 'Survived', data=X)\n",
    "\n",
    "plt.subplot (335)\n",
    "#sns.distplot(X['Parch'])\n",
    "#px.histogram(X, x=\"Parch\").show()\n",
    "sns.barplot('Parch', 'Survived', data=X)\n",
    "\n",
    "plt.subplot (336)\n",
    "sns.distplot(X['Fare'])\n",
    "#train['Fare'].hist()\n",
    "\n",
    "plt.subplot (337)\n",
    "sns.barplot('Embarked', 'Survived', data=X)"
   ]
  },
  {
   "cell_type": "code",
   "execution_count": null,
   "metadata": {},
   "outputs": [],
   "source": [
    "X_dropna_categor = pd.get_dummies(X_dropna) #переведем все в котегориальные признаки \n",
    "#print(X_dropna_categor.shape)\n",
    "X_dropna_age_std = X_dropna_categor['Age'].std()\n",
    "#print('X_dropna_age_std')\n",
    "#print(X_dropna_age_std)\n",
    "\n",
    "Sex_female_Survived = X_dropna_categor.loc[(X_dropna_categor.Sex_female == 1) & (X_dropna_categor.Survived == 1)] # только девушки пережившие\n",
    "Sex_female_NoSurvived = X_dropna_categor.loc[(X_dropna_categor.Sex_female == 1) & (X_dropna_categor.Survived == 0)] # только девушки не пережившие\n",
    "\n",
    "X_Sex_male_Survived = X_dropna_categor.loc[(X_dropna_categor.Sex_male == 1) & (X_dropna_categor.Survived == 1)] # только парни пережившие\n",
    "X_Sex_male_NoSurvived = X_dropna_categor.loc[(X_dropna_categor.Sex_male == 1) & (X_dropna_categor.Survived == 0)] # только парни пережившие\n",
    "\n",
    "female_Survived_mean, female_NoSurvived_mean = Sex_female_Survived['Age'].mean(), Sex_female_NoSurvived['Age'].mean()\n",
    "male_Survived_mean, male_NoSurvived_mean = X_Sex_male_Survived['Age'].mean(), X_Sex_male_NoSurvived['Age'].mean()\n",
    "\n",
    "female_Survived_std, female_NoSurvived_std = Sex_female_Survived['Age'].std(), Sex_female_NoSurvived['Age'].std()\n",
    "male_Survived_std, male_NoSurvived_std = X_Sex_male_Survived['Age'].std(), X_Sex_male_NoSurvived['Age'].std()\n",
    "\n",
    "#print('mean')\n",
    "#print(female_Survived_mean, female_NoSurvived_mean) # Sex_female_Survived, female_Survived, female_Survived_std \n",
    "#print(male_Survived_mean, male_NoSurvived_mean)\n",
    "#print('std')\n",
    "#print(female_Survived_std, female_NoSurvived_std)\n",
    "#print(male_Survived_std, male_NoSurvived_std)\n"
   ]
  },
  {
   "cell_type": "code",
   "execution_count": null,
   "metadata": {},
   "outputs": [],
   "source": [
    "#age distribution of survivors and non-survivors\n",
    "sns.set(rc={'figure.figsize': (15, 9)})\n",
    "plt.subplot (221)\n",
    "sns.distplot(Sex_female_Survived['Age'] , kde_kws = {'color': 'g', 'lw':1, 'label': 'Sex_female_Survived' })\n",
    "plt.subplot (222)\n",
    "sns.distplot(Sex_female_NoSurvived['Age'] , kde_kws = {'color': 'r', 'lw':1, 'label': 'Sex_female_NoSurvived' })\n",
    "plt.subplot (223)\n",
    "sns.distplot(X_Sex_male_Survived['Age'] , kde_kws = {'color': 'blue', 'lw':1, 'label': 'X_Sex_male_Survived' })\n",
    "plt.subplot (224)\n",
    "sns.distplot(X_Sex_male_NoSurvived['Age'] , kde_kws = {'color': 'gray', 'lw':1, 'label': 'X_Sex_male_NoSurvived' })"
   ]
  },
  {
   "cell_type": "code",
   "execution_count": null,
   "metadata": {},
   "outputs": [],
   "source": [
    "import math\n",
    "import random\n",
    "\n",
    "def derf(sample, mean, std):\n",
    "    age_shape = sample['Age'].shape[0] # sample size\n",
    "    #print(age_shape)\n",
    "    standard_error_ofthe_mean = std / math.sqrt(age_shape)\n",
    "    #print(standard_error_ofthe_mean)\n",
    "    #print('Confidence Interval:', mean-(1.96*standard_error_ofthe_mean), mean+(1.96*standard_error_ofthe_mean))\n",
    "    random_mean = random.uniform(mean-(1.96*standard_error_ofthe_mean), mean+(1.96*standard_error_ofthe_mean))\n",
    "    return round(random_mean, 2) \n",
    "    "
   ]
  },
  {
   "cell_type": "code",
   "execution_count": null,
   "metadata": {},
   "outputs": [],
   "source": [
    "#age distribution of survivors and non-survivors\n",
    "#sns.set(rc={'figure.figsize': (15, 7)})\n",
    "#col = {'g': Sex_female_Survived, 'r': Sex_female_NoSurvived, 'blue': X_Sex_male_Survived, 'gray': X_Sex_male_NoSurvived}\n",
    "#data = ['Sex_female_Survived', 'Sex_female_NoSurvived', 'X_Sex_male_Survived', 'X_Sex_male_NoSurvived']\n",
    "#l = 0\n",
    "#for col_lor in col:\n",
    "#    sns.distplot(col[col_lor]['Age'] , kde_kws = {'color': col_lor, 'lw':1, 'label': data[l] })\n",
    "#    l+=1"
   ]
  },
  {
   "cell_type": "code",
   "execution_count": null,
   "metadata": {},
   "outputs": [],
   "source": [
    "for i in train.loc[(train['Sex']=='female') & (train['Survived']==1) & (train['Age'].isnull())].PassengerId:\n",
    "    train.at[i-1, 'Age'] = derf(Sex_female_Survived, female_Survived_mean, male_Survived_std)\n",
    "    \n",
    "for h in train.loc[(train['Sex']=='female') & (train['Survived']==0) & (train['Age'].isnull())].PassengerId:\n",
    "    train.at[h-1, 'Age'] = derf(Sex_female_NoSurvived, female_NoSurvived_mean, female_NoSurvived_std)\n",
    "    \n",
    "for l in train.loc[(train['Sex']=='male') & (train['Survived']==1) & (train['Age'].isnull())].PassengerId:\n",
    "    train.at[l-1, 'Age'] = derf(X_Sex_male_Survived, male_Survived_mean, male_Survived_std)\n",
    "    \n",
    "for b in train.loc[(train['Sex']=='male') & (train['Survived']==0) & (train['Age'].isnull())].PassengerId:\n",
    "    train.at[b-1, 'Age'] = derf(X_Sex_male_NoSurvived, male_NoSurvived_mean, male_NoSurvived_std)"
   ]
  },
  {
   "cell_type": "code",
   "execution_count": null,
   "metadata": {},
   "outputs": [],
   "source": [
    "#train.iloc[13:34, :]"
   ]
  },
  {
   "cell_type": "code",
   "execution_count": null,
   "metadata": {},
   "outputs": [],
   "source": [
    "Survived = train[train['Survived']==1]\n",
    "NoSurvived = train[train['Survived']==0]"
   ]
  },
  {
   "cell_type": "code",
   "execution_count": null,
   "metadata": {},
   "outputs": [],
   "source": [
    "fig = px.histogram(Survived, x=\"Age\", title='survivor return distribution', color=\"Sex\")\n",
    "fig.show()"
   ]
  },
  {
   "cell_type": "code",
   "execution_count": null,
   "metadata": {},
   "outputs": [],
   "source": [
    "fig = px.histogram(NoSurvived, x=\"Age\", title='No survivor return distribution', color=\"Sex\")\n",
    "fig.show()\n",
    "  "
   ]
  },
  {
   "cell_type": "code",
   "execution_count": null,
   "metadata": {},
   "outputs": [],
   "source": []
  },
  {
   "cell_type": "code",
   "execution_count": null,
   "metadata": {},
   "outputs": [],
   "source": [
    "'''\n",
    "import numpy as np\n",
    "import matplotlib.pyplot as plt\n",
    "plt.style.use('seaborn-deep')\n",
    "x = np.random.normal(1, 2, 5000)\n",
    "y = np.random.normal(-1, 3, 2000)\n",
    "bins = np.linspace(-10, 10, 30)\n",
    "plt.hist([x, y], bins, label=['x', 'y'])\n",
    "plt.legend(loc='upper right')\n",
    "plt.show()\n",
    "'''"
   ]
  },
  {
   "cell_type": "code",
   "execution_count": null,
   "metadata": {},
   "outputs": [],
   "source": [
    "'''\n",
    "import seaborn as sns\n",
    "#type(train.iloc[:, :-1]) pandas.core.frame.DataFrame\n",
    "colors = ['g', 'r', 'blue', 'yellow', 'white']\n",
    "col_train = train[['Pclass', 'Age', 'SibSp',  'Parch', 'Fare', 'Embarked']]\n",
    "for col, color in zip(col_train, colors):\n",
    "    sns.distplot(train[col], kde_kws = {'color':color, 'lw':1, 'label':col})\n",
    "'''"
   ]
  }
 ],
 "metadata": {
  "kernelspec": {
   "display_name": "Python 3",
   "language": "python",
   "name": "python3"
  },
  "language_info": {
   "codemirror_mode": {
    "name": "ipython",
    "version": 3
   },
   "file_extension": ".py",
   "mimetype": "text/x-python",
   "name": "python",
   "nbconvert_exporter": "python",
   "pygments_lexer": "ipython3",
   "version": "3.7.3"
  }
 },
 "nbformat": 4,
 "nbformat_minor": 2
}
